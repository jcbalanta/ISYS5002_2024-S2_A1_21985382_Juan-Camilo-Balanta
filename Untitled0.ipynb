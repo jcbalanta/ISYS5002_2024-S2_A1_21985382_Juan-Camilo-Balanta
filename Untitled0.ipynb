{
  "nbformat": 4,
  "nbformat_minor": 0,
  "metadata": {
    "colab": {
      "provenance": [],
      "authorship_tag": "ABX9TyO3n5wxV21aAFuUt4EnjmwF",
      "include_colab_link": true
    },
    "kernelspec": {
      "name": "python3",
      "display_name": "Python 3"
    },
    "language_info": {
      "name": "python"
    }
  },
  "cells": [
    {
      "cell_type": "markdown",
      "metadata": {
        "id": "view-in-github",
        "colab_type": "text"
      },
      "source": [
        "<a href=\"https://colab.research.google.com/github/jcbalanta/ISYS5002_2024-S2_A1_21985382_Juan-Camilo-Balanta/blob/main/Untitled0.ipynb\" target=\"_parent\"><img src=\"https://colab.research.google.com/assets/colab-badge.svg\" alt=\"Open In Colab\"/></a>"
      ]
    },
    {
      "cell_type": "markdown",
      "source": [
        "Installing required libraries"
      ],
      "metadata": {
        "id": "vuiSbPpEK3_v"
      }
    },
    {
      "cell_type": "code",
      "source": [
        "!pip install pandas numpy matplotlib\n"
      ],
      "metadata": {
        "id": "cCN3ksznK_oi"
      },
      "execution_count": null,
      "outputs": []
    },
    {
      "cell_type": "code",
      "source": [
        "# Importing libraries\n",
        "import pandas as pd\n",
        "import numpy as np\n",
        "import matplotlib.pyplot as plt\n"
      ],
      "metadata": {
        "id": "sPJPBhSTLGGp"
      },
      "execution_count": 3,
      "outputs": []
    },
    {
      "cell_type": "markdown",
      "source": [
        "Request user Data"
      ],
      "metadata": {
        "id": "BeJ2uXMiSiUx"
      }
    },
    {
      "cell_type": "code",
      "source": [],
      "metadata": {
        "id": "UeYp0cSdLZLs"
      },
      "execution_count": 5,
      "outputs": []
    },
    {
      "cell_type": "code",
      "execution_count": 1,
      "metadata": {
        "id": "6vxjo_dqmAe1"
      },
      "outputs": [],
      "source": [
        "def get_user_input():\n",
        "    # Gen AI Interaction 1 - Ask for user input\n",
        "    # Gen AI Prompt\n",
        "    age = int(input(\"Enter your age: \"))\n",
        "    gender = input(\"Gender (Male/Female): \").strip().upper()\n",
        "\n",
        "    # Gen AI Response\n",
        "    print(f\"You entered: Age={age}, Gender={gender}\")\n",
        "\n",
        "    # Gen AI Response Effectiveness\n",
        "    while gender not in [\"MALE\", \"FEMALE\"]:\n",
        "        print(\"Invalid gender entered. Please enter 'Male' or 'Female'.\")\n",
        "        gender = input(\"Reenter gender (Male/Female): \").strip().upper()\n",
        "\n",
        "    # Get the values of Height and Weight\n",
        "    while True:\n",
        "        try:\n",
        "            height_cm = float(input(\"Enter your height in cms: \"))\n",
        "            if height_cm <= 0:\n",
        "                print(\"Height must be a positive number.\")\n",
        "                continue\n",
        "        except ValueError:\n",
        "            print(\"Please enter a valid number for height.\")\n",
        "            continue\n",
        "\n",
        "        try:\n",
        "            weight_kg = float(input(\"Enter your weight in kgs: \"))\n",
        "            if weight_kg <= 0:\n",
        "                print(\"Weight must be a positive number.\")\n",
        "                continue\n",
        "        except ValueError:\n",
        "            print(\"Please enter a valid number for weight.\")\n",
        "            continue\n",
        "\n",
        "        print(f\"You entered: Height={height_cm} cm, Weight={weight_kg} kg\")\n",
        "        confirmation = input(\"Are these values correct? (yes/no): \").strip().lower()\n",
        "        if confirmation == 'yes':\n",
        "            break\n",
        "        else:\n",
        "            print(\"Please reenter the values.\")\n",
        "\n",
        "    # Gen AI Interaction 2 - Verify smoking status\n",
        "    # Gen AI Prompt\n",
        "    smoking_status = input(\"Do you smoke? (yes/no): \").strip().lower()\n",
        "    while smoking_status not in ['yes', 'no']:\n",
        "        print(\"Invalid smoking status. Please enter 'Yes' or 'No'.\")\n",
        "        smoking_status = input(\"Re-enter smoking status (yes/no): \").strip().lower()\n",
        "\n",
        "    # Print smoking status\n",
        "    print(f\"You indicated that you {'smoke' if smoking_status == 'yes' else 'do not smoke'}.\")\n",
        "\n",
        "    # Gen AI Interaction 3 - Verify alcohol consumption\n",
        "    alcohol_status = input(\"Do you drink alcohol? (Yes/No): \").strip().upper()\n",
        "    while alcohol_status not in ['YES', 'NO']:\n",
        "        print(\"Invalid input for alcohol consumption. Please enter 'Yes' or 'No'.\")\n",
        "        alcohol_status = input(\"Re-enter alcohol consumption status (Yes/No): \").strip().upper()\n",
        "\n",
        "    # Gen AI Interaction 4 - Verify physical activity\n",
        "    physical_activity_status = input(\"Do you exercise regularly? (Yes/No): \").strip().upper()\n",
        "    while physical_activity_status not in ['YES', 'NO']:\n",
        "        print(\"Invalid input for physical activity. Please enter 'Yes' or 'No'.\")\n",
        "        physical_activity_status = input(\"Re-enter physical activity status (Yes/No): \").strip().upper()\n",
        "\n",
        "    # Print physical activity status\n",
        "    print(f\"Your response was: {'You exercise regularly.' if physical_activity_status == 'YES' else 'You do not exercise regularly.'}\")\n",
        "\n",
        "    # Calculate BMI\n",
        "    height_m = height_cm / 100\n",
        "    bmi = weight_kg / (height_m ** 2)\n",
        "\n",
        "    # Determine BMI Category\n",
        "    if bmi < 18.5:\n",
        "        bmi_category = 'Underweight'\n",
        "    elif 18.5 <= bmi < 24.9:\n",
        "        bmi_category = 'Normal weight'\n",
        "    elif 25 <= bmi < 29.9:\n",
        "        bmi_category = 'Overweight'\n",
        "    else:\n",
        "        bmi_category = 'Obesity'\n",
        "\n",
        "    # Display BMI result\n",
        "    print(f\"Your calculated BMI is {bmi:.2f}, which is categorized as {bmi_category}.\")\n",
        "\n",
        "    # Return collected data\n",
        "    return {\n",
        "        'Age': age,\n",
        "        'Gender': gender,\n",
        "        'BMI': bmi,\n",
        "        'BMI Category': bmi_category,\n",
        "        'Smoking Status': smoking_status,\n",
        "        'Alcohol Status': alcohol_status,\n",
        "        'Physical Activity': physical_activity_status\n",
        "    }\n",
        "\n"
      ]
    },
    {
      "cell_type": "code",
      "source": [
        "user_data = get_user_input()\n",
        "print(user_data)"
      ],
      "metadata": {
        "id": "PFMjOwfVglDU"
      },
      "execution_count": null,
      "outputs": []
    }
  ]
}