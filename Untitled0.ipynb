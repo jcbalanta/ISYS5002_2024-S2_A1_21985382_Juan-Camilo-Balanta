{
  "cells": [
    {
      "cell_type": "markdown",
      "metadata": {
        "id": "view-in-github",
        "colab_type": "text"
      },
      "source": [
        "<a href=\"https://colab.research.google.com/github/jcbalanta/ISYS5002_2024-S2_A1_21985382_Juan-Camilo-Balanta/blob/main/Untitled0.ipynb\" target=\"_parent\"><img src=\"https://colab.research.google.com/assets/colab-badge.svg\" alt=\"Open In Colab\"/></a>"
      ]
    },
    {
      "cell_type": "markdown",
      "metadata": {
        "id": "vuiSbPpEK3_v"
      },
      "source": [
        "Installing required libraries"
      ]
    },
    {
      "cell_type": "code",
      "execution_count": null,
      "metadata": {
        "id": "cCN3ksznK_oi"
      },
      "outputs": [],
      "source": [
        "!pip install pandas numpy matplotlib\n"
      ]
    },
    {
      "cell_type": "code",
      "execution_count": null,
      "metadata": {
        "id": "sPJPBhSTLGGp"
      },
      "outputs": [],
      "source": [
        "# Importing libraries\n",
        "import pandas as pd\n",
        "import numpy as np\n",
        "import matplotlib.pyplot as plt\n"
      ]
    },
    {
      "cell_type": "markdown",
      "metadata": {
        "id": "BeJ2uXMiSiUx"
      },
      "source": [
        "Request user Data"
      ]
    },
    {
      "cell_type": "code",
      "execution_count": 66,
      "metadata": {
        "id": "UeYp0cSdLZLs"
      },
      "outputs": [],
      "source": [
        "def get_user_input():\n",
        "    # Gen AI Interaction 1 - Ask for user input\n",
        "    # Gen AI Prompt\n",
        "    age=int(input(\"Enter your age: \"))\n",
        "    gender=input(\"Gender (Male/Female): \").strip().upper()\n",
        "\n",
        "    # Gen AI Response\n",
        "    print(f\"You entered: Age= {age}, gender= {gender}\")\n",
        "\n",
        "    # Gen AI Response Effectiveness\n",
        "    if gender not in [\"MALE\", \"FEMALE\"]:\n",
        "      print(\"Invalid gender entered. Please enter 'Male' or 'Female'\")\n",
        "      #Modification implemented\n",
        "      gender=input(\"Reenter gender (Male/Female):  \").strip().upper()\n",
        "\n",
        "   # Get the values of Height and Weight\n",
        "    while True:\n",
        "\n",
        "      try:\n",
        "\n",
        "        height_cm= float(input(\"Enter your height in cms: \"))\n",
        "        if height_cm <=0:\n",
        "\n",
        "          print(\"Height Must be a positive number\")\n",
        "          continue\n",
        "\n",
        "      except ValueError:\n",
        "        print(\"Please enter a valid number for height\")\n",
        "        continue\n",
        "      try:\n",
        "\n",
        "       weight_kg= float(input(\"Enter your Weight in Kgs:  \"))\n",
        "       if weight_kg<=0:\n",
        "         print(\"Weight Must be a positive number\")\n",
        "      except ValueError:\n",
        "        print(\"please enter a valid number for Weight\")\n",
        "        continue\n",
        "      print(f\"You entered: Height= {height_cm}cm, Weight= {weight_kg}kg\")\n",
        "      confirmation=input(\"Are these values correct? (yes/no):  \").strip().lower()\n",
        "      if confirmation == 'yes':\n",
        "        break\n",
        "      else:\n",
        "       print(\"please reenter the values.\")\n",
        "\n",
        "    # Gen AI Interaction 2 - Verify smoking status\n",
        "    # Gen AI Prompt\n",
        "\n",
        "    smoking_status=input(\"Do you smoke? (yes/no): \").strip().upper()\n",
        "\n",
        " # Gen AI Response Effectiveness\n",
        "    if smoking_status not in [\"YES\", \"NO\"]:\n",
        "        print(\"Invalid smoking status. Please enter 'Yes' or 'No'.\")\n",
        "        # Modification Implemented\n",
        "        smoking_status = input(\"Re-enter smoking status (Yes/No): \").upper()\n",
        "\n",
        "         # Gen AI Response\n",
        "    print(f\"You indicated that you {'smoke'if smoking_status == 'YES' else 'do not smoke'}.\")\n",
        "\n",
        "    alcohol_status = input(\"Do you drink alcohol? (Yes/No): \").upper()\n",
        "\n",
        "    # Gen AI Interaction 3 - Verify physical activity\n",
        "    # Gen AI Prompt\n",
        "    physical_activity_status = input(\"Do you exercise regularly? (Yes/No): \").upper()\n",
        "\n",
        "    # Gen AI Response\n",
        "    print(f\"Your response was: {'You exercise regularly.' if physical_activity_status == 'YES' else 'You do not exercise regularly.'}\")\n",
        "\n",
        "    # Gen AI Response Effectiveness\n",
        "    if physical_activity_status not in [\"YES\", \"NO\"]:\n",
        "        print(\"Invalid input for physical activity. Please enter 'Yes' or 'No'.\")\n",
        "        # Modification Implemented\n",
        "        physical_activity_status = input(\"Re-enter physical activity status (Yes/No): \").upper()\n",
        "\n",
        "    # Calculate BMI\n",
        "    height_m = height_cm / 100\n",
        "    bmi = weight_kg / (height_m ** 2)\n",
        "\n",
        "    # Determine BMI Category\n",
        "    if bmi < 18.5:\n",
        "        bmi_category = 'Underweight'\n",
        "    elif 18.5 <= bmi < 24.9:\n",
        "        bmi_category = 'Normal weight'\n",
        "    elif 25 <= bmi < 29.9:\n",
        "        bmi_category = 'Overweight'\n",
        "    else:\n",
        "        bmi_category = 'Obesity'\n",
        "\n",
        "    # Display Gen AI response about BMI calculation\n",
        "    print(f\"Your calculated BMI is {bmi:.2f}, which is categorized as {bmi_category}.\")\n",
        "\n",
        "    user_data= {\n",
        "        'Age': age,\n",
        "        'Gender': gender,\n",
        "        'BMI': bmi,\n",
        "        'BMI Category': bmi_category,\n",
        "        'Smoking Status': smoking_status,\n",
        "        'Alcohol Status': alcohol_status,\n",
        "        'Physical Activity Status': physical_activity_status\n",
        "    }\n",
        "\n",
        "\n",
        "\n",
        "   # return user data\n",
        "    return user_data\n",
        "\n"
      ]
    },
    {
      "cell_type": "code",
      "execution_count": 80,
      "metadata": {
        "colab": {
          "base_uri": "https://localhost:8080/"
        },
        "id": "PFMjOwfVglDU",
        "outputId": "f73d835a-b4ca-4f9d-868b-c9e7fb097993"
      },
      "outputs": [
        {
          "output_type": "stream",
          "name": "stdout",
          "text": [
            "Enter your age: 35\n",
            "Gender (Male/Female): male\n",
            "You entered: Age= 35, gender= MALE\n",
            "Enter your height in cms: 195\n",
            "Enter your Weight in Kgs:  95\n",
            "You entered: Height= 195.0cm, Weight= 95.0kg\n",
            "Are these values correct? (yes/no):  yes\n",
            "Do you smoke? (yes/no): no\n",
            "You indicated that you do not smoke.\n",
            "Do you drink alcohol? (Yes/No): no\n",
            "Do you exercise regularly? (Yes/No): no\n",
            "Your response was: You do not exercise regularly.\n",
            "Your calculated BMI is 24.98, which is categorized as Obesity.\n"
          ]
        }
      ],
      "source": [
        "user_data=get_user_input()"
      ]
    },
    {
      "cell_type": "code",
      "source": [
        "def assess_risk(age, bmi_category, smoking_status, alcohol_status, physical_activity_status):\n",
        "    if age < 30 and bmi_category == 'Normal weight' and smoking_status == 'no' and alcohol_status == 'no' and physical_activity_status == 'yes':\n",
        "        return 'Low Risk'\n",
        "    elif 30 <= age < 45 and bmi_category == 'Overweight' and smoking_status == 'yes' and alcohol_status == 'yes' and physical_activity_status == 'no':\n",
        "        return 'Moderate Risk'\n",
        "    elif age > 45 and bmi_category == 'Obesity' and smoking_status == 'yes' and physical_activity_status == 'no':\n",
        "        return 'High Risk'\n",
        "    else:\n",
        "        return 'Moderate Risk'\n",
        "\n",
        "# Assess risk based on user data\n",
        "user_data = get_user_input()\n",
        "risk_level = assess_risk(user_data['Age'], user_data['BMI Category'],\n",
        "                         user_data['Smoking Status'], user_data['Alcohol Status'],\n",
        "                         user_data['Physical Activity Status'])\n",
        "\n",
        "print(f\"Based on your information, your heart condition risk level is: {risk_level}\")\n",
        "user_data['Risk Level'] = risk_level\n",
        "\n",
        "save_to_csv(user_data)\n"
      ],
      "metadata": {
        "colab": {
          "base_uri": "https://localhost:8080/"
        },
        "id": "rudcp5mG0_ZG",
        "outputId": "95c5df8a-d838-4535-e036-3d49adaa582c"
      },
      "execution_count": 81,
      "outputs": [
        {
          "output_type": "stream",
          "name": "stdout",
          "text": [
            "Enter your age: 29\n",
            "Gender (Male/Female): male\n",
            "You entered: Age= 29, gender= MALE\n",
            "Enter your height in cms: 175\n",
            "Enter your Weight in Kgs:  95\n",
            "You entered: Height= 175.0cm, Weight= 95.0kg\n",
            "Are these values correct? (yes/no):  yes\n",
            "Do you smoke? (yes/no): no\n",
            "You indicated that you do not smoke.\n",
            "Do you drink alcohol? (Yes/No): yes\n",
            "Do you exercise regularly? (Yes/No): no\n",
            "Your response was: You do not exercise regularly.\n",
            "Your calculated BMI is 31.02, which is categorized as Obesity.\n",
            "Based on your information, your heart condition risk level is: Moderate Risk\n"
          ]
        }
      ]
    },
    {
      "cell_type": "code",
      "source": [
        "import csv"
      ],
      "metadata": {
        "id": "U7XksHFYFV9h"
      },
      "execution_count": 68,
      "outputs": []
    },
    {
      "cell_type": "code",
      "source": [
        "def save_to_csv(data):\n",
        "    # Define the header based on the keys of the data dictionary\n",
        "    header = ['Age', 'Gender', 'BMI', 'BMI Category', 'Smoking Status', 'Alcohol Status', 'Physical Activity Status', 'Risk Level']\n",
        "\n",
        "    # Open the CSV file in append mode\n",
        "    with open('user_data.csv', mode='a', newline='') as file:\n",
        "        writer = csv.DictWriter(file, fieldnames=header)\n",
        "\n",
        "        # If file is empty, write the header\n",
        "        if file.tell() == 0:\n",
        "            writer.writeheader()\n",
        "\n",
        "        # Write the data to the file\n",
        "        writer.writerow(data)\n"
      ],
      "metadata": {
        "id": "QDz7Y4pQFb0e"
      },
      "execution_count": 70,
      "outputs": []
    }
  ],
  "metadata": {
    "colab": {
      "provenance": [],
      "authorship_tag": "ABX9TyPxhz63DZvBw6fVBbest8n9",
      "include_colab_link": true
    },
    "kernelspec": {
      "display_name": "Python 3",
      "name": "python3"
    },
    "language_info": {
      "name": "python"
    }
  },
  "nbformat": 4,
  "nbformat_minor": 0
}