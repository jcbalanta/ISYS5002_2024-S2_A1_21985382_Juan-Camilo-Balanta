{
  "cells": [
    {
      "cell_type": "markdown",
      "metadata": {
        "id": "view-in-github",
        "colab_type": "text"
      },
      "source": [
        "<a href=\"https://colab.research.google.com/github/jcbalanta/ISYS5002_2024-S2_A1_21985382_Juan-Camilo-Balanta/blob/main/Assigment_IP.ipynb\" target=\"_parent\"><img src=\"https://colab.research.google.com/assets/colab-badge.svg\" alt=\"Open In Colab\"/></a>"
      ]
    },
    {
      "cell_type": "markdown",
      "source": [
        "# **Problem Solving Methodology**"
      ],
      "metadata": {
        "id": "eWhFu_oRzX_0"
      }
    },
    {
      "cell_type": "markdown",
      "source": [
        "**1. Problem Stament**\n",
        "\n",
        "The goal is to develop an application that predicts the likelihood of a heart condition based on user inputs such as age, gender, BMI category, smoking status, alcohol consumption status, and physical activity status. The application should also store the data in a CSV file and be able to generate visual graphs based on this data. A predefined risk assessment matrix will be used to predict the risk of a heart condition."
      ],
      "metadata": {
        "id": "UaKa26NX8qyX"
      }
    },
    {
      "cell_type": "markdown",
      "source": [
        "**2. Describe the inputs and outputs:**\n",
        "\n",
        "**Inputs:** The user-provided data includes:\n",
        "Age (integer).\n",
        "\n",
        "Gender (string).\n",
        "\n",
        "Height (floating-point number in centimeters).\n",
        "\n",
        "Weight (floating-point number in kilograms).\n",
        "\n",
        "Smoking status (string: Smoker/Non-smoker).\n",
        "\n",
        "Alcohol consumption status (string: Drinker/Non-drinker).\n",
        "\n",
        "Physical activity status (string: Active/Inactive).\n",
        "\n",
        "**Outputs:**\n",
        "Calculated BMI (floating-point number).\n",
        "\n",
        "BMI category (string).\n",
        "\n",
        "Heart condition risk level (string).\n",
        "\n",
        "CSV file containing all the above data.\n",
        "\n",
        "Visual graphs representing heart condition risk based on this data."
      ],
      "metadata": {
        "id": "JhIjd9Ay90EZ"
      }
    },
    {
      "cell_type": "markdown",
      "source": [
        "**3.Solve a simple example by hand:**\n",
        "\n",
        "Consider an example where a user enters the following data:\n",
        "\n",
        "Age: 45 years,\n",
        "\n",
        "Gender: Male,\n",
        "\n",
        "Height: 175 cm,\n",
        "\n",
        "Weight: 80 kg,\n",
        "\n",
        "Smoking status: Smoker,\n",
        "\n",
        "Alcohol consumption status: Drinker,\n",
        "\n",
        "Physical activity status: Active,\n",
        "\n",
        "BMI Calculation:\n",
        "\n",
        "Height converted to meters: 175 cm → 1.75 m\n",
        "\n",
        "BMI = Weight / (Height²) = 80 / (1.75²) ≈ 26.12\n",
        "\n",
        "BMI Category: Overweight.\n",
        "\n",
        "According to the risk assessment matrix, if the user is overweight and a smoker, their risk is High."
      ],
      "metadata": {
        "id": "UGSRjbx6-SI2"
      }
    },
    {
      "cell_type": "markdown",
      "source": [
        "**4.Develop an algorithm or pseudocode:**\n",
        "\n",
        "Prompt the user to enter their age, gender, height, weight, smoking status, alcohol consumption status, and physical activity status.\n",
        "\n",
        "Calculate the BMI using the provided height and weight.\n",
        "\n",
        "Compare the calculated BMI with predefined ranges to determine the BMI category.\n",
        "\n",
        "Use a risk assessment matrix to determine the risk level based on the BMI\n",
        "\n",
        " category, smoking status, alcohol consumption, and physical activity.\n",
        "\n",
        "Store the data in a CSV file.\n",
        "\n",
        "Generate graphs based on the stored data."
      ],
      "metadata": {
        "id": "CdCT2yXc_JbV"
      }
    },
    {
      "cell_type": "markdown",
      "source": [
        "**5.Convert pseudocode into Python code:**"
      ],
      "metadata": {
        "id": "LdLS-SZyAg75"
      }
    },
    {
      "cell_type": "markdown",
      "metadata": {
        "id": "vuiSbPpEK3_v"
      },
      "source": [
        "Installing required libraries"
      ]
    },
    {
      "cell_type": "code",
      "execution_count": null,
      "metadata": {
        "id": "cCN3ksznK_oi"
      },
      "outputs": [],
      "source": [
        "!pip install pandas numpy matplotlib\n"
      ]
    },
    {
      "cell_type": "code",
      "execution_count": 27,
      "metadata": {
        "id": "sPJPBhSTLGGp"
      },
      "outputs": [],
      "source": [
        "# Importing libraries\n",
        "import pandas as pd\n",
        "import numpy as np\n",
        "import matplotlib.pyplot as plt"
      ]
    },
    {
      "cell_type": "code",
      "source": [
        "import csv"
      ],
      "metadata": {
        "id": "TYJtFwBTtqnn"
      },
      "execution_count": 28,
      "outputs": []
    },
    {
      "cell_type": "markdown",
      "source": [
        "**Rquest User Data**\n",
        "\n",
        "In this project, I chose a user-friendly approach to data collection. I guided the user through multiple questions, validated the data in real time, and allowed them to confirm or re-enter the information if necessary. This approach ensures that the user is actively involved in verifying their inputs, which helps reduce errors. I used a dictionary structure to consolidate the validated entries because it provides clarity and simplicity when accessing the data during subsequent steps, such as BMI calculation and risk assessment. The step-by-step confirmation also ensures the accuracy of the data before it is processed and stored.\n",
        "\n",
        "I chose the dictionary as the data structure because it allows me to store information in key-value pairs, making it easy to organize and access individual pieces of data using clear labels like 'Age', 'Gender', and 'BMI'. Each piece of information provided by the user, such as age, gender, and health status, is stored with a descriptive key, making the data more readable and easier to retrieve for any subsequent processing or analysis. In this case, all the information is stored in a dictionary called **user_data**, which keeps everything well-organized and ready for use.\n",
        "\n",
        "To calculate the Body Mass Index (BMI) and categorize it, I implemented comparison operations that help classify the BMI into different ranges. First, the BMI is calculated by dividing weight in kilograms by the square of height in meters. Then, comparisons are used to determine the corresponding category: if the BMI is less than 18.5, it is classified as 'underweight'; if it is between 18.5 and 24.9, it is classified as 'normal weight'; if it is between 25 and 29.9, it is classified as 'overweight'; and if it is 30 or more, it is classified as 'obesity'. These comparisons allow for a clear interpretation of the BMI and provide an accurate assessment of weight-related health status.\n",
        "\n",
        "The formula for calculating Body Mass Index (BMI) and establishing weight categories based on BMI was taken from the following **website: CDC - Assessing Adult BMI.**"
      ],
      "metadata": {
        "id": "xE33072EPSes"
      }
    },
    {
      "cell_type": "markdown",
      "source": [
        "The **get_user_input** function collects and validates personal health data from the user through a series of prompts. It begins by asking for the user's age and gender, confirming the accuracy of this information before proceeding. It then gathers height and weight, ensuring these are positive numbers, and confirms their correctness. The function further collects information on smoking status, alcohol consumption, and physical activity level, validating each input. With all data confirmed, it calculates the Body Mass Index (BMI) and classifies it into categories like underweight, normal weight, overweight, or obesity. The results, along with all collected data, are stored in a dictionary and returned for further use."
      ],
      "metadata": {
        "id": "n151Q7pQY-M5"
      }
    },
    {
      "cell_type": "markdown",
      "source": [
        "**Challenges:**\n",
        "\n",
        "When writing this function, I faced several challenges, including indentation issues, validating each input, and the need to provide clear error messages so that users could correct their responses. I also had to establish the proper logic and structure of the function and finally consolidate all the information into a dictionary. To overcome these challenges, I used class recordings, my notes, YouTube videos, and ChatGPT's assistance."
      ],
      "metadata": {
        "id": "lF_tccJDet_W"
      }
    },
    {
      "cell_type": "code",
      "execution_count": 26,
      "metadata": {
        "id": "UeYp0cSdLZLs"
      },
      "outputs": [],
      "source": [
        "def get_user_input():\n",
        "    while True:\n",
        "        try:\n",
        "            # Ask for user input age and gender\n",
        "\n",
        "            age = int(input(\"Enter your age: \"))\n",
        "            gender = input(\"Gender (Male/Female): \").strip().upper()\n",
        "\n",
        "            # Display the entered values\n",
        "            print(f\"You entered: Age={age}, Gender={gender}\")\n",
        "\n",
        "            # Confirm the entered values\n",
        "            confirm = input(\"Is this information correct? (Yes/No): \").strip().lower()\n",
        "\n",
        "            if confirm in ['yes', 'y']:\n",
        "                # Exit the loop if the information is correct\n",
        "                break\n",
        "            elif confirm in ['no', 'n']:\n",
        "                print(\"Please re-enter the information.\")\n",
        "            else:\n",
        "                print(\"Invalid response. Please enter 'Yes' or 'No'.\")\n",
        "        except ValueError:\n",
        "            print(\"Invalid input. Please enter a valid number for age.\")\n",
        "\n",
        "    # Provide final confirmation after the loop\n",
        "    print(f\"Final entry: Age={age}, Gender={gender}\")\n",
        "\n",
        "    # Get the values of Height and Weight\n",
        "    while True:\n",
        "        try:\n",
        "            # Get user height input\n",
        "            height_cm = float(input(\"Enter your height in cms: \"))\n",
        "            if height_cm <= 0:\n",
        "                print(\"Height must be a positive number.\")\n",
        "                continue\n",
        "\n",
        "            # Get user weight input\n",
        "            weight_kg = float(input(\"Enter your weight in Kgs: \"))\n",
        "            if weight_kg <= 0:\n",
        "                print(\"Weight must be a positive number.\")\n",
        "                continue\n",
        "\n",
        "        except ValueError:\n",
        "            print(\"Please enter valid numbers for height and weight.\")\n",
        "            continue\n",
        "\n",
        "        # Display the entered values\n",
        "        print(f\"You entered: Height={height_cm} cm, Weight={weight_kg} kg\")\n",
        "\n",
        "        # Confirm the entered values\n",
        "        confirmation = input(\"Are these values correct? (yes/no): \").strip().lower()\n",
        "\n",
        "        if confirmation in ['yes', 'y']:\n",
        "            break  # Exit the loop if the information is correct\n",
        "        elif confirmation in ['no', 'n']:\n",
        "            print(\"Please re-enter the information.\")\n",
        "        else:\n",
        "            print(\"Invalid response. Please enter 'yes' or 'no'.\")\n",
        "\n",
        "    # This line will only be executed after the loop is exited, when the information is confirmed.\n",
        "    print(f\"Final entry: Height={height_cm} cm, Weight={weight_kg} kg\")\n",
        "\n",
        "    # Gen AI Interaction - Verify smoking status\n",
        "    while True:\n",
        "        # Ask for smoking status\n",
        "        smoking_status = input(\"What is your smoking status? (Smoker/Non-Smoker): \").strip().upper()\n",
        "\n",
        "        # Validate the status\n",
        "        if smoking_status not in [\"SMOKER\", \"NON-SMOKER\"]:\n",
        "            print(\"Invalid smoking status. Please enter 'Smoker' or 'Non-Smoker'.\")\n",
        "        else:\n",
        "            # Provide appropriate feedback\n",
        "            print(f\"You indicated that you {'smoke' if smoking_status == 'SMOKER' else 'do not smoke'}.\")\n",
        "            break  # Exit the loop if the input is valid\n",
        "\n",
        "    # Gen AI Interaction - Verify alcohol consumption status\n",
        "    while True:\n",
        "        # Ask for alcohol consumption status\n",
        "        alcohol_status = input(\"What is your alcohol consumption status? (Drinker/Non-Drinker): \").strip().upper()\n",
        "\n",
        "        # Validate the status\n",
        "        if alcohol_status not in [\"DRINKER\", \"NON-DRINKER\"]:\n",
        "            print(\"Invalid alcohol consumption status. Please enter 'Drinker' or 'Non-Drinker'.\")\n",
        "        else:\n",
        "            # Provide appropriate feedback\n",
        "            print(f\"You indicated that you {'drink' if alcohol_status == 'DRINKER' else 'do not drink'}.\")\n",
        "            break  # Exit the loop if the input is valid\n",
        "\n",
        "    # Gen AI Interaction - Verify physical activity status\n",
        "    while True:\n",
        "        # Ask for physical activity status\n",
        "        physical_activity_status = input(\"What is your physical activity status? (Active/Inactive): \").strip().upper()\n",
        "\n",
        "        # Validate the status\n",
        "        if physical_activity_status not in [\"ACTIVE\", \"INACTIVE\"]:\n",
        "            print(\"Invalid physical activity status. Please enter 'Active' or 'Inactive'.\")\n",
        "        else:\n",
        "            # Provide appropriate feedback\n",
        "            print(f\"You indicated that you are {'active' if physical_activity_status == 'ACTIVE' else 'inactive'}.\")\n",
        "            break  # Exit the loop if the input is valid\n",
        "\n",
        "    # Calculate BMI\n",
        "    height_m = height_cm / 100\n",
        "    bmi = weight_kg / (height_m ** 2)\n",
        "\n",
        "    # Determine BMI Category\n",
        "    if bmi < 18.5:\n",
        "        bmi_category = 'Underweight'\n",
        "    elif 18.5 <= bmi < 24.9:\n",
        "        bmi_category = 'Normal weight'\n",
        "    elif 25 <= bmi < 29.9:\n",
        "        bmi_category = 'Overweight'\n",
        "    else:\n",
        "        bmi_category = 'Obesity'\n",
        "\n",
        "    # Display BMI calculation result\n",
        "    print(f\"Your calculated BMI is {bmi:.2f}, which is categorized as {bmi_category}.\")\n",
        "\n",
        "    # Prepare user data\n",
        "    user_data = {\n",
        "        'Age': age,\n",
        "        'Gender': gender,\n",
        "        'BMI': bmi,\n",
        "        'BMI Category': bmi_category,\n",
        "        'Smoking Status': smoking_status,\n",
        "        'Alcohol Status': alcohol_status,\n",
        "        'Physical Activity Status': physical_activity_status\n",
        "    }\n",
        "\n",
        "    # Return user data\n",
        "    return user_data\n"
      ]
    },
    {
      "cell_type": "markdown",
      "source": [
        "The **assess_risk function** evaluates a person's heart health risk using the Heart Condition Risk Prediction Table, which correlates BMI category, smoking status, alcohol consumption, and physical activity with different risk levels. First, it converts all responses to lowercase to avoid case sensitivity issues. It then checks the combinations of these factors based on the table to determine the risk. For example, if someone is underweight, does not smoke or drink alcohol, and is inactive, their risk is medium; if they smoke, the risk is always high, regardless of other conditions. Finally, the function returns the corresponding risk level and updates the user's data in a CSV file."
      ],
      "metadata": {
        "id": "sVXqBc3OfIaX"
      }
    },
    {
      "cell_type": "markdown",
      "source": [
        "**Challenges:**\n",
        "\n",
        "The main challenges I faced while developing this function were understanding nested conditions and designing the logic. However, I was able to overcome these challenges with the help of tools like ChatGPT."
      ],
      "metadata": {
        "id": "4e5J7KbYkCdV"
      }
    },
    {
      "cell_type": "code",
      "source": [
        "def assess_risk(bmi_category, smoking_status, alcohol_status, physical_activity_status):\n",
        "\n",
        "       # Convert inputs to lowercase to avoid case sensitivity issues\n",
        "\n",
        "    bmi_category = bmi_category.lower()\n",
        "    smoking_status = smoking_status.lower()\n",
        "    alcohol_status = alcohol_status.lower()\n",
        "    physical_activity_status = physical_activity_status.lower()\n",
        "\n",
        "\n",
        "      # Risk level combinations according to the table\n",
        "\n",
        "\n",
        "    if bmi_category == 'underweight':\n",
        "        if smoking_status == 'non-smoker' and alcohol_status == 'non-drinker':\n",
        "            if physical_activity_status == 'inactive':\n",
        "                return 'Medium'\n",
        "            else:\n",
        "                return 'Low'\n",
        "        elif smoking_status == 'non-smoker' and alcohol_status == 'drinker':\n",
        "            if physical_activity_status == 'inactive':\n",
        "                return 'Medium'\n",
        "            else:\n",
        "                return 'Low'\n",
        "        elif smoking_status == 'smoker':\n",
        "            return 'High'\n",
        "\n",
        "    elif bmi_category == 'normal weight':\n",
        "        if smoking_status == 'non-smoker' and alcohol_status == 'non-drinker':\n",
        "            if physical_activity_status == 'inactive':\n",
        "                return 'Medium'\n",
        "            else:\n",
        "                return 'Low'\n",
        "        elif smoking_status == 'non-smoker' and alcohol_status == 'drinker':\n",
        "            if physical_activity_status == 'inactive':\n",
        "                return 'Medium'\n",
        "            else:\n",
        "                return 'Low'\n",
        "        elif smoking_status == 'smoker':\n",
        "            if physical_activity_status == 'inactive':\n",
        "                if alcohol_status == 'non-drinker':\n",
        "                    return 'Medium'\n",
        "                else:\n",
        "                    return 'High'\n",
        "            else:\n",
        "                return 'Medium'\n",
        "\n",
        "    elif bmi_category == 'overweight':\n",
        "        if smoking_status == 'non-smoker':\n",
        "            return 'Medium'\n",
        "        elif smoking_status == 'smoker':\n",
        "            return 'High'\n",
        "\n",
        "    elif bmi_category == 'obesity':\n",
        "        return 'High'\n",
        "\n",
        "    return 'Moderate Risk'\n",
        "\n",
        " # Evaluate the risk based on user data\n",
        "\n",
        "user_data = get_user_input()\n",
        "risk_level = assess_risk(user_data['BMI Category'], user_data['Smoking Status'],\n",
        "                         user_data['Alcohol Status'], user_data['Physical Activity Status'])\n",
        "\n",
        "print(f\"Based on your information, your heart condition risk level is: {risk_level}\")\n",
        "user_data['Risk Level'] = risk_level\n",
        "\n",
        "save_to_csv(user_data)\n",
        "\n"
      ],
      "metadata": {
        "id": "rudcp5mG0_ZG",
        "colab": {
          "base_uri": "https://localhost:8080/"
        },
        "outputId": "5a6a7685-bf3e-456a-91ce-69c6460f7af7"
      },
      "execution_count": 29,
      "outputs": [
        {
          "output_type": "stream",
          "name": "stdout",
          "text": [
            "Enter your age: 25\n",
            "Gender (Male/Female): male\n",
            "You entered: Age=25, Gender=MALE\n",
            "Is this information correct? (Yes/No): yes\n",
            "Final entry: Age=25, Gender=MALE\n",
            "Enter your height in cms: 180\n",
            "Enter your weight in Kgs: 45\n",
            "You entered: Height=180.0 cm, Weight=45.0 kg\n",
            "Are these values correct? (yes/no): yes\n",
            "Final entry: Height=180.0 cm, Weight=45.0 kg\n",
            "What is your smoking status? (Smoker/Non-Smoker): non-smoker\n",
            "You indicated that you do not smoke.\n",
            "What is your alcohol consumption status? (Drinker/Non-Drinker): non-drinker\n",
            "You indicated that you do not drink.\n",
            "What is your physical activity status? (Active/Inactive): activ\n",
            "Invalid physical activity status. Please enter 'Active' or 'Inactive'.\n",
            "What is your physical activity status? (Active/Inactive): active\n",
            "You indicated that you are active.\n",
            "Your calculated BMI is 13.89, which is categorized as Underweight.\n",
            "Based on your information, your heart condition risk level is: Low\n"
          ]
        }
      ]
    },
    {
      "cell_type": "markdown",
      "source": [
        "The **save_to_csv** function saves information to a CSV file. First, it defines a list of headers for the columns in the file. Then, it opens the file in append mode (which means it adds data to the end of the existing file). If the file is empty, the function writes the headers. Finally, it adds a row of data to the file."
      ],
      "metadata": {
        "id": "YpNe2q6tlVbE"
      }
    },
    {
      "cell_type": "markdown",
      "source": [
        "**Challenges :**\n",
        "\n",
        " While developing this function, I encountered several challenges, including understanding the proper file opening mode, using csv.DictWriter correctly, and writing the header only once. To overcome these obstacles, I used resources such as YouTube tutorials and ChatGPT. These resources helped me better understand how to handle CSV files and implement the function effectively."
      ],
      "metadata": {
        "id": "iYKxnjlurGyX"
      }
    },
    {
      "cell_type": "code",
      "source": [
        "def save_to_csv(data):\n",
        "\n",
        "    # Define the header based on the keys of the data dictionary\n",
        "\n",
        "    header = ['Age', 'Gender', 'BMI', 'BMI Category', 'Smoking Status', 'Alcohol Status', 'Physical Activity Status', 'Risk Level']\n",
        "\n",
        "    # Open the CSV file in append mode\n",
        "\n",
        "    with open('user_data.csv', mode='a', newline='') as file:\n",
        "        writer = csv.DictWriter(file, fieldnames=header)\n",
        "\n",
        "        # If file is empty, write the header\n",
        "\n",
        "        if file.tell() == 0:\n",
        "            writer.writeheader()\n",
        "\n",
        "        # Write the data to the file\n",
        "\n",
        "        writer.writerow(data)\n"
      ],
      "metadata": {
        "id": "QDz7Y4pQFb0e"
      },
      "execution_count": 30,
      "outputs": []
    },
    {
      "cell_type": "markdown",
      "source": [
        "\n",
        "The **run_health_assessment** function collects user data via get_user_input and assesses their cardiac risk level using assess_risk based on their BMI category, smoking status, alcohol consumption, and physical activity. The risk level is added to the user's data and displayed on the screen. The data is then saved to a CSV file using save_to_csv. The function also informs the user that their information will be compared with that of other users and offers the option to view a distribution chart of BMI categories or risk levels, with their own data highlighted in red for easier comparison."
      ],
      "metadata": {
        "id": "0cJg3LP2mvg-"
      }
    },
    {
      "cell_type": "markdown",
      "source": [
        "**Challenges:**\n",
        "\n",
        "For this function, the main challenges were integrating the different functions, adding the risk level to the user data, and ensuring that the format was consistent and correct. Additionally, integrating the graph visualization function to provide user-friendly options was also a challenge. I overcame these challenges with the help of tutor guidance, YouTube videos, and ChatGPT."
      ],
      "metadata": {
        "id": "WVDJfm5LscNX"
      }
    },
    {
      "cell_type": "code",
      "source": [
        "def run_health_assessment():\n",
        "\n",
        "    # Call the function to enter user data\n",
        "    user_data = get_user_input()\n",
        "\n",
        "    # Evaluate the risk with the data entered\n",
        "    risk_level = assess_risk(user_data['BMI Category'],\n",
        "                             user_data['Smoking Status'], user_data['Alcohol Status'],\n",
        "                             user_data['Physical Activity Status'])\n",
        "\n",
        "    # Add risk level to data\n",
        "    user_data['Risk Level'] = risk_level\n",
        "\n",
        "    # Show risk level\n",
        "    print(f\"Based on your information, your heart condition risk level is: {risk_level}\")\n",
        "\n",
        "    # Save data to CSV file\n",
        "    save_to_csv(user_data)\n",
        "\n",
        "    # Inform the user about the comparison\n",
        "    print(\"\\nYour data will be compared to the data of other users collected in this session.\\n\")\n",
        "\n",
        "    # Ask the user for their choice of graph\n",
        "    while True:\n",
        "        choice = input(\"What would you like to compare? (1 for BMI Category, 2 for Risk Level): \")\n",
        "        if choice in ['1', '2']:\n",
        "            break\n",
        "        else:\n",
        "            print(\"Invalid choice. Please enter 1 or 2.\")\n",
        "\n",
        "    # Read the CSV file into a pandas DataFrame\n",
        "    df = pd.read_csv('user_data.csv')\n",
        "\n",
        "    if choice == '1':\n",
        "        # Count the occurrences of each BMI category\n",
        "        counts = df['BMI Category'].value_counts()\n",
        "        column_name = 'BMI Category'\n",
        "\n",
        "        # Determine the color for the user's BMI category\n",
        "        user_value = user_data[column_name]\n",
        "        colors = ['blue' for _ in counts.index]\n",
        "        if user_value in counts.index:\n",
        "            user_index = counts.index.get_loc(user_value)\n",
        "            colors[user_index] = 'red'\n",
        "\n",
        "        # Create a bar chart with the user's category highlighted\n",
        "        plt.bar(counts.index, counts.values, color=colors)\n",
        "        plt.xlabel(column_name)\n",
        "        plt.ylabel('Count')\n",
        "        plt.title(f'Distribution of {column_name}s (Comparing your data with others)')\n",
        "        plt.show()\n",
        "\n",
        "    else:\n",
        "        # Count the occurrences of each risk level\n",
        "        counts = df['Risk Level'].value_counts()\n",
        "        column_name = 'Risk Level'\n",
        "\n",
        "        # Assign a color palette with unique colors for each section\n",
        "        colors = plt.get_cmap('tab20')(range(len(counts)))\n",
        "\n",
        "        # Find the index of the user's risk level\n",
        "        user_value = user_data[column_name]\n",
        "        if user_value in counts.index:\n",
        "            user_index = counts.index.get_loc(user_value)\n",
        "            colors = list(colors)  # Convert from np.array to list\n",
        "            colors[user_index] = 'red'  # Highlight the user's risk level\n",
        "\n",
        "        # Create a pie chart with the user's level highlighted\n",
        "        plt.pie(counts.values, labels=counts.index, colors=colors, autopct='%1.1f%%', startangle=90)\n",
        "        plt.title(f'Distribution of {column_name}s (Comparing your data with others)')\n",
        "        plt.axis('equal')  # Equal aspect ratio ensures that pie is drawn as a circle.\n",
        "        plt.show()\n"
      ],
      "metadata": {
        "id": "AcTYPcblptfi"
      },
      "execution_count": 57,
      "outputs": []
    },
    {
      "cell_type": "markdown",
      "source": [
        "**6.Test the solution with a variety of data:**\n",
        "\n",
        "The code should be tested using different combinations of inputs to ensure that the BMI calculations, range comparisons, and risk assessments are correct."
      ],
      "metadata": {
        "id": "_vNSkQLlBDS9"
      }
    },
    {
      "cell_type": "code",
      "source": [
        "run_health_assessment()"
      ],
      "metadata": {
        "colab": {
          "base_uri": "https://localhost:8080/",
          "height": 931
        },
        "id": "z0q_1r0dc2zh",
        "outputId": "38182352-04c5-41ad-f9a2-bad51b2bcb23"
      },
      "execution_count": 58,
      "outputs": [
        {
          "name": "stdout",
          "output_type": "stream",
          "text": [
            "Enter your age: 29\n",
            "Gender (Male/Female): male\n",
            "You entered: Age=29, Gender=MALE\n",
            "Is this information correct? (Yes/No): ye\n",
            "Invalid response. Please enter 'Yes' or 'No'.\n",
            "Enter your age: y\n",
            "Invalid input. Please enter a valid number for age.\n",
            "Enter your age: 25\n",
            "Gender (Male/Female): male\n",
            "You entered: Age=25, Gender=MALE\n",
            "Is this information correct? (Yes/No): y\n",
            "Final entry: Age=25, Gender=MALE\n",
            "Enter your height in cms: 165\n",
            "Enter your weight in Kgs: 45\n",
            "You entered: Height=165.0 cm, Weight=45.0 kg\n",
            "Are these values correct? (yes/no): yes\n",
            "Final entry: Height=165.0 cm, Weight=45.0 kg\n",
            "What is your smoking status? (Smoker/Non-Smoker): smoker\n",
            "You indicated that you smoke.\n",
            "What is your alcohol consumption status? (Drinker/Non-Drinker): drinker\n",
            "You indicated that you drink.\n",
            "What is your physical activity status? (Active/Inactive): active\n",
            "You indicated that you are active.\n",
            "Your calculated BMI is 16.53, which is categorized as Underweight.\n",
            "Based on your information, your heart condition risk level is: High\n",
            "\n",
            "Your data will be compared to the data of other users collected in this session.\n",
            "\n",
            "What would you like to compare? (1 for BMI Category, 2 for Risk Level): 2\n"
          ]
        },
        {
          "output_type": "display_data",
          "data": {
            "text/plain": [
              "<Figure size 640x480 with 1 Axes>"
            ],
            "image/png": "[encoded data removed]"
          },
          "metadata": {}
        }
      ]
    }
  ],
  "metadata": {
    "colab": {
      "provenance": [],
      "authorship_tag": "ABX9TyOJz40MdX5XiJYMVFqNiymz",
      "include_colab_link": true
    },
    "kernelspec": {
      "display_name": "Python 3",
      "name": "python3"
    },
    "language_info": {
      "name": "python"
    }
  },
  "nbformat": 4,
  "nbformat_minor": 0
}