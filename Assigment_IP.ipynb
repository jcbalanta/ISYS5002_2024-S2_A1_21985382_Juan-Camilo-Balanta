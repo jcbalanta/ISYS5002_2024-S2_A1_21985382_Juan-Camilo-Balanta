{
  "cells": [
    {
      "cell_type": "markdown",
      "metadata": {
        "id": "view-in-github",
        "colab_type": "text"
      },
      "source": [
        "<a href=\"https://colab.research.google.com/github/jcbalanta/ISYS5002_2024-S2_A1_21985382_Juan-Camilo-Balanta/blob/main/Assigment_IP.ipynb\" target=\"_parent\"><img src=\"https://colab.research.google.com/assets/colab-badge.svg\" alt=\"Open In Colab\"/></a>"
      ]
    },
    {
      "cell_type": "markdown",
      "source": [
        "# **Problem Solving Methodology**"
      ],
      "metadata": {
        "id": "eWhFu_oRzX_0"
      }
    },
    {
      "cell_type": "markdown",
      "source": [
        " **Problem stament**\n",
        "\n",
        "The goal is to develop an application that predicts the likelihood of a heart condition based on user inputs such as age, gender, BMI category, smoking status, alcohol consumption status, and physical activity status. The application should also store the data in a CSV file and be able to generate visual graphs based on this data. A predefined risk assessment matrix will be used to predict the risk of a heart condition.\n"
      ],
      "metadata": {
        "id": "SkQDWckzzZeU"
      }
    },
    {
      "cell_type": "markdown",
      "source": [
        "**Describe the inputs and outputs:**\n",
        "\n",
        "**Inputs:** The user-provided data includes:\n",
        "Age (integer).\n",
        "\n",
        "Gender (string).\n",
        "\n",
        "Height (floating-point number in centimeters).\n",
        "\n",
        "Weight (floating-point number in kilograms).\n",
        "\n",
        "Smoking status (string: Smoker/Non-smoker).\n",
        "\n",
        "Alcohol consumption status (string: Drinker/Non-drinker).\n",
        "\n",
        "Physical activity status (string: Active/Inactive).\n",
        "\n",
        "**Outputs:**\n",
        "Calculated BMI (floating-point number).\n",
        "\n",
        "BMI category (string).\n",
        "\n",
        "Heart condition risk level (string).\n",
        "\n",
        "CSV file containing all the above data.\n",
        "\n",
        "Visual graphs representing heart condition risk based on this data."
      ],
      "metadata": {
        "id": "JhIjd9Ay90EZ"
      }
    },
    {
      "cell_type": "markdown",
      "source": [
        "**Solve a simple example by hand:**\n",
        "Consider an example where a user enters the following data:\n",
        "\n",
        "Age: 45 years,\n",
        "\n",
        "Gender: Male,\n",
        "\n",
        "Height: 175 cm,\n",
        "\n",
        "Weight: 80 kg,\n",
        "\n",
        "Smoking status: Smoker,\n",
        "\n",
        "Alcohol consumption status: Drinker,\n",
        "\n",
        "Physical activity status: Active,\n",
        "\n",
        "BMI Calculation:\n",
        "\n",
        "Height converted to meters: 175 cm → 1.75 m\n",
        "\n",
        "BMI = Weight / (Height²) = 80 / (1.75²) ≈ 26.12\n",
        "\n",
        "BMI Category: Overweight.\n",
        "\n",
        "According to the risk assessment matrix, if the user is overweight and a smoker, their risk is High."
      ],
      "metadata": {
        "id": "UGSRjbx6-SI2"
      }
    },
    {
      "cell_type": "markdown",
      "source": [
        "**Develop an algorithm or pseudocode:**\n",
        "\n",
        "Prompt the user to enter their age, gender, height, weight, smoking status, alcohol consumption status, and physical activity status.\n",
        "\n",
        "Calculate the BMI using the provided height and weight.\n",
        "\n",
        "Compare the calculated BMI with predefined ranges to determine the BMI category.\n",
        "\n",
        "Use a risk assessment matrix to determine the risk level based on the BMI\n",
        "\n",
        " category, smoking status, alcohol consumption, and physical activity.\n",
        "\n",
        "Store the data in a CSV file.\n",
        "\n",
        "Generate graphs based on the stored data."
      ],
      "metadata": {
        "id": "CdCT2yXc_JbV"
      }
    },
    {
      "cell_type": "markdown",
      "source": [
        "**Convert pseudocode into Python code:**"
      ],
      "metadata": {
        "id": "LdLS-SZyAg75"
      }
    },
    {
      "cell_type": "markdown",
      "metadata": {
        "id": "vuiSbPpEK3_v"
      },
      "source": [
        "Installing required libraries"
      ]
    },
    {
      "cell_type": "code",
      "execution_count": null,
      "metadata": {
        "id": "cCN3ksznK_oi"
      },
      "outputs": [],
      "source": [
        "!pip install pandas numpy matplotlib\n"
      ]
    },
    {
      "cell_type": "code",
      "execution_count": null,
      "metadata": {
        "id": "sPJPBhSTLGGp"
      },
      "outputs": [],
      "source": [
        "# Importing libraries\n",
        "import pandas as pd\n",
        "import numpy as np\n",
        "import matplotlib.pyplot as plt\n"
      ]
    },
    {
      "cell_type": "markdown",
      "metadata": {
        "id": "BeJ2uXMiSiUx"
      },
      "source": [
        "Request user Data"
      ]
    },
    {
      "cell_type": "code",
      "execution_count": null,
      "metadata": {
        "id": "UeYp0cSdLZLs"
      },
      "outputs": [],
      "source": [
        "def get_user_input():\n",
        "    while True:\n",
        "        try:\n",
        "            # Ask for user input age and gender\n",
        "\n",
        "            age = int(input(\"Enter your age: \"))\n",
        "            gender = input(\"Gender (Male/Female): \").strip().upper()\n",
        "\n",
        "            # Display the entered values\n",
        "            print(f\"You entered: Age={age}, Gender={gender}\")\n",
        "\n",
        "            # Confirm the entered values\n",
        "            confirm = input(\"Is this information correct? (Yes/No): \").strip().lower()\n",
        "\n",
        "            if confirm in ['yes', 'y']:\n",
        "                # Exit the loop if the information is correct\n",
        "                break\n",
        "            elif confirm in ['no', 'n']:\n",
        "                print(\"Please re-enter the information.\")\n",
        "            else:\n",
        "                print(\"Invalid response. Please enter 'Yes' or 'No'.\")\n",
        "        except ValueError:\n",
        "            print(\"Invalid input. Please enter a valid number for age.\")\n",
        "\n",
        "    # Provide final confirmation after the loop\n",
        "    print(f\"Final entry: Age={age}, Gender={gender}\")\n",
        "\n",
        "    # Get the values of Height and Weight\n",
        "    while True:\n",
        "        try:\n",
        "            # Get user height input\n",
        "            height_cm = float(input(\"Enter your height in cms: \"))\n",
        "            if height_cm <= 0:\n",
        "                print(\"Height must be a positive number.\")\n",
        "                continue\n",
        "\n",
        "            # Get user weight input\n",
        "            weight_kg = float(input(\"Enter your weight in Kgs: \"))\n",
        "            if weight_kg <= 0:\n",
        "                print(\"Weight must be a positive number.\")\n",
        "                continue\n",
        "\n",
        "        except ValueError:\n",
        "            print(\"Please enter valid numbers for height and weight.\")\n",
        "            continue\n",
        "\n",
        "        # Display the entered values\n",
        "        print(f\"You entered: Height={height_cm} cm, Weight={weight_kg} kg\")\n",
        "\n",
        "        # Confirm the entered values\n",
        "        confirmation = input(\"Are these values correct? (yes/no): \").strip().lower()\n",
        "\n",
        "        if confirmation in ['yes', 'y']:\n",
        "            break  # Exit the loop if the information is correct\n",
        "        elif confirmation in ['no', 'n']:\n",
        "            print(\"Please re-enter the information.\")\n",
        "        else:\n",
        "            print(\"Invalid response. Please enter 'yes' or 'no'.\")\n",
        "\n",
        "    # This line will only be executed after the loop is exited, when the information is confirmed.\n",
        "    print(f\"Final entry: Height={height_cm} cm, Weight={weight_kg} kg\")\n",
        "\n",
        "    # Gen AI Interaction - Verify smoking status\n",
        "    while True:\n",
        "        # Ask for smoking status\n",
        "        smoking_status = input(\"What is your smoking status? (Smoker/Non-Smoker): \").strip().upper()\n",
        "\n",
        "        # Validate the status\n",
        "        if smoking_status not in [\"SMOKER\", \"NON-SMOKER\"]:\n",
        "            print(\"Invalid smoking status. Please enter 'Smoker' or 'Non-Smoker'.\")\n",
        "        else:\n",
        "            # Provide appropriate feedback\n",
        "            print(f\"You indicated that you {'smoke' if smoking_status == 'SMOKER' else 'do not smoke'}.\")\n",
        "            break  # Exit the loop if the input is valid\n",
        "\n",
        "    # Gen AI Interaction - Verify alcohol consumption status\n",
        "    while True:\n",
        "        # Ask for alcohol consumption status\n",
        "        alcohol_status = input(\"What is your alcohol consumption status? (Drinker/Non-Drinker): \").strip().upper()\n",
        "\n",
        "        # Validate the status\n",
        "        if alcohol_status not in [\"DRINKER\", \"NON-DRINKER\"]:\n",
        "            print(\"Invalid alcohol consumption status. Please enter 'Drinker' or 'Non-Drinker'.\")\n",
        "        else:\n",
        "            # Provide appropriate feedback\n",
        "            print(f\"You indicated that you {'drink' if alcohol_status == 'DRINKER' else 'do not drink'}.\")\n",
        "            break  # Exit the loop if the input is valid\n",
        "\n",
        "    # Gen AI Interaction - Verify physical activity status\n",
        "    while True:\n",
        "        # Ask for physical activity status\n",
        "        physical_activity_status = input(\"What is your physical activity status? (Active/Inactive): \").strip().upper()\n",
        "\n",
        "        # Validate the status\n",
        "        if physical_activity_status not in [\"ACTIVE\", \"INACTIVE\"]:\n",
        "            print(\"Invalid physical activity status. Please enter 'Active' or 'Inactive'.\")\n",
        "        else:\n",
        "            # Provide appropriate feedback\n",
        "            print(f\"You indicated that you are {'active' if physical_activity_status == 'ACTIVE' else 'inactive'}.\")\n",
        "            break  # Exit the loop if the input is valid\n",
        "\n",
        "    # Calculate BMI\n",
        "    height_m = height_cm / 100\n",
        "    bmi = weight_kg / (height_m ** 2)\n",
        "\n",
        "    # Determine BMI Category\n",
        "    if bmi < 18.5:\n",
        "        bmi_category = 'Underweight'\n",
        "    elif 18.5 <= bmi < 24.9:\n",
        "        bmi_category = 'Normal weight'\n",
        "    elif 25 <= bmi < 29.9:\n",
        "        bmi_category = 'Overweight'\n",
        "    else:\n",
        "        bmi_category = 'Obesity'\n",
        "\n",
        "    # Display BMI calculation result\n",
        "    print(f\"Your calculated BMI is {bmi:.2f}, which is categorized as {bmi_category}.\")\n",
        "\n",
        "    # Prepare user data\n",
        "    user_data = {\n",
        "        'Age': age,\n",
        "        'Gender': gender,\n",
        "        'BMI': bmi,\n",
        "        'BMI Category': bmi_category,\n",
        "        'Smoking Status': smoking_status,\n",
        "        'Alcohol Status': alcohol_status,\n",
        "        'Physical Activity Status': physical_activity_status\n",
        "    }\n",
        "\n",
        "    # Return user data\n",
        "    return user_data\n"
      ]
    },
    {
      "cell_type": "code",
      "source": [],
      "metadata": {
        "id": "o4G48sjEq-Jj"
      },
      "execution_count": null,
      "outputs": []
    },
    {
      "cell_type": "code",
      "source": [
        "def assess_risk(bmi_category, smoking_status, alcohol_status, physical_activity_status):\n",
        "\n",
        "       # Convert inputs to lowercase to avoid case sensitivity issues\n",
        "\n",
        "    bmi_category = bmi_category.lower()\n",
        "    smoking_status = smoking_status.lower()\n",
        "    alcohol_status = alcohol_status.lower()\n",
        "    physical_activity_status = physical_activity_status.lower()\n",
        "\n",
        "\n",
        "      # Risk level combinations according to the table\n",
        "\n",
        "    if bmi_category == 'underweight':\n",
        "        if smoking_status == 'non-smoker' and alcohol_status == 'non-drinker':\n",
        "            if physical_activity_status == 'inactive':\n",
        "                return 'Medium'\n",
        "            else:\n",
        "                return 'Low'\n",
        "        elif smoking_status == 'non-smoker' and alcohol_status == 'drinker':\n",
        "            if physical_activity_status == 'inactive':\n",
        "                return 'Medium'\n",
        "            else:\n",
        "                return 'Low'\n",
        "        elif smoking_status == 'smoker':\n",
        "            return 'High'\n",
        "\n",
        "    elif bmi_category == 'normal weight':\n",
        "        if smoking_status == 'non-smoker' and alcohol_status == 'non-drinker':\n",
        "            if physical_activity_status == 'inactive':\n",
        "                return 'Medium'\n",
        "            else:\n",
        "                return 'Low'\n",
        "        elif smoking_status == 'non-smoker' and alcohol_status == 'drinker':\n",
        "            if physical_activity_status == 'inactive':\n",
        "                return 'Medium'\n",
        "            else:\n",
        "                return 'Low'\n",
        "        elif smoking_status == 'smoker':\n",
        "            if physical_activity_status == 'inactive':\n",
        "                if alcohol_status == 'non-drinker':\n",
        "                    return 'Medium'\n",
        "                else:\n",
        "                    return 'High'\n",
        "            else:\n",
        "                return 'Medium'\n",
        "\n",
        "    elif bmi_category == 'overweight':\n",
        "        if smoking_status == 'non-smoker':\n",
        "            return 'Medium'\n",
        "        elif smoking_status == 'smoker':\n",
        "            return 'High'\n",
        "\n",
        "    elif bmi_category == 'obesity':\n",
        "        return 'High'\n",
        "\n",
        "    return 'Moderate Risk'\n",
        "\n",
        " # Evaluate the risk based on user data\n",
        "\n",
        "user_data = get_user_input()\n",
        "risk_level = assess_risk(user_data['BMI Category'], user_data['Smoking Status'],\n",
        "                         user_data['Alcohol Status'], user_data['Physical Activity Status'])\n",
        "\n",
        "print(f\"Based on your information, your heart condition risk level is: {risk_level}\")\n",
        "user_data['Risk Level'] = risk_level\n",
        "\n",
        "save_to_csv(user_data)\n",
        "\n"
      ],
      "metadata": {
        "id": "rudcp5mG0_ZG"
      },
      "execution_count": null,
      "outputs": []
    },
    {
      "cell_type": "code",
      "source": [
        "import csv"
      ],
      "metadata": {
        "id": "U7XksHFYFV9h"
      },
      "execution_count": null,
      "outputs": []
    },
    {
      "cell_type": "code",
      "source": [
        "def save_to_csv(data):\n",
        "\n",
        "    # Define the header based on the keys of the data dictionary\n",
        "\n",
        "    header = ['Age', 'Gender', 'BMI', 'BMI Category', 'Smoking Status', 'Alcohol Status', 'Physical Activity Status', 'Risk Level']\n",
        "\n",
        "    # Open the CSV file in append mode\n",
        "\n",
        "    with open('user_data.csv', mode='a', newline='') as file:\n",
        "        writer = csv.DictWriter(file, fieldnames=header)\n",
        "\n",
        "        # If file is empty, write the header\n",
        "\n",
        "        if file.tell() == 0:\n",
        "            writer.writeheader()\n",
        "\n",
        "        # Write the data to the file\n",
        "\n",
        "        writer.writerow(data)\n"
      ],
      "metadata": {
        "id": "QDz7Y4pQFb0e"
      },
      "execution_count": null,
      "outputs": []
    },
    {
      "cell_type": "code",
      "source": [
        "def run_health_assessment():\n",
        "\n",
        "  # Call the function to enter user data\n",
        "\n",
        "    user_data = get_user_input()\n",
        "\n",
        "    # Evaluate the risk with the data entered\n",
        "\n",
        "    risk_level = assess_risk(user_data['BMI Category'],\n",
        "                             user_data['Smoking Status'], user_data['Alcohol Status'],\n",
        "                             user_data['Physical Activity Status'])\n",
        "\n",
        "    # Add risk level to data\n",
        "\n",
        "    user_data['Risk Level'] = risk_level\n",
        "\n",
        "\n",
        "    # Show risk level\n",
        "\n",
        "    print(f\"Based on your information, your heart condition risk level is: {risk_level}\")\n",
        "\n",
        " # Save data to CSV file\n",
        "    save_to_csv(user_data)\n",
        "\n"
      ],
      "metadata": {
        "id": "AcTYPcblptfi"
      },
      "execution_count": null,
      "outputs": []
    },
    {
      "cell_type": "markdown",
      "source": [
        "**Test the solution with a variety of data:**\n",
        "\n",
        "The code should be tested using different combinations of inputs to ensure that the BMI calculations, range comparisons, and risk assessments are correct."
      ],
      "metadata": {
        "id": "_vNSkQLlBDS9"
      }
    },
    {
      "cell_type": "code",
      "source": [
        "run_health_assessment()"
      ],
      "metadata": {
        "id": "N1j0FFdoujXZ"
      },
      "execution_count": null,
      "outputs": []
    }
  ],
  "metadata": {
    "colab": {
      "provenance": [],
      "authorship_tag": "ABX9TyOqmmAYiLQU44RaBDKCrVNI",
      "include_colab_link": true
    },
    "kernelspec": {
      "display_name": "Python 3",
      "name": "python3"
    },
    "language_info": {
      "name": "python"
    }
  },
  "nbformat": 4,
  "nbformat_minor": 0
}